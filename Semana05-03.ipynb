{
 "cells": [
  {
   "cell_type": "markdown",
   "id": "580563cc",
   "metadata": {},
   "source": [
    "# SEMANA 05\n",
    "Emily Gomez Marcos :D"
   ]
  },
  {
   "cell_type": "markdown",
   "id": "e165be6f",
   "metadata": {},
   "source": [
    "Temas:"
   ]
  },
  {
   "cell_type": "markdown",
   "id": "c44e4e1e",
   "metadata": {},
   "source": [
    "1. Números\n",
    "2. Variables\n",
    "3. Manejo de Cadenas\n",
    "4. Ingreso de datos por teclado\n",
    "5. Operadores"
   ]
  },
  {
   "cell_type": "markdown",
   "id": "56c990d1",
   "metadata": {},
   "source": [
    "3. Manejo de Cadenas"
   ]
  },
  {
   "cell_type": "code",
   "execution_count": 27,
   "id": "b25f7ce1",
   "metadata": {},
   "outputs": [
    {
     "data": {
      "text/plain": [
       "'aeiou'"
      ]
     },
     "execution_count": 27,
     "metadata": {},
     "output_type": "execute_result"
    }
   ],
   "source": [
    "cadena1 = \"Universidad Nacional Tecnológica de Lima Sur\"\n",
    "cadena"
   ]
  },
  {
   "cell_type": "code",
   "execution_count": 2,
   "id": "e40d0d9f",
   "metadata": {},
   "outputs": [],
   "source": [
    "#Universidad Nacional Tecnológica de Lima Sur\n",
    "#012345...n-3"
   ]
  },
  {
   "cell_type": "code",
   "execution_count": 28,
   "id": "0b9e3420",
   "metadata": {},
   "outputs": [
    {
     "data": {
      "text/plain": [
       "'r'"
      ]
     },
     "execution_count": 28,
     "metadata": {},
     "output_type": "execute_result"
    }
   ],
   "source": [
    "cadena1[5]"
   ]
  },
  {
   "cell_type": "code",
   "execution_count": 29,
   "id": "07af09b5",
   "metadata": {},
   "outputs": [
    {
     "data": {
      "text/plain": [
       "'d'"
      ]
     },
     "execution_count": 29,
     "metadata": {},
     "output_type": "execute_result"
    }
   ],
   "source": [
    "cadena1[10]"
   ]
  },
  {
   "cell_type": "code",
   "execution_count": 30,
   "id": "0ae2ab01",
   "metadata": {},
   "outputs": [
    {
     "data": {
      "text/plain": [
       "' '"
      ]
     },
     "execution_count": 30,
     "metadata": {},
     "output_type": "execute_result"
    }
   ],
   "source": [
    "cadena1[11]"
   ]
  },
  {
   "cell_type": "code",
   "execution_count": 31,
   "id": "f860edcc",
   "metadata": {},
   "outputs": [
    {
     "data": {
      "text/plain": [
       "'a'"
      ]
     },
     "execution_count": 31,
     "metadata": {},
     "output_type": "execute_result"
    }
   ],
   "source": [
    "cadena1[-5]"
   ]
  },
  {
   "cell_type": "code",
   "execution_count": 8,
   "id": "e7dfefbe",
   "metadata": {},
   "outputs": [
    {
     "data": {
      "text/plain": [
       "'T'"
      ]
     },
     "execution_count": 8,
     "metadata": {},
     "output_type": "execute_result"
    }
   ],
   "source": [
    "cadena[21]"
   ]
  },
  {
   "cell_type": "code",
   "execution_count": 33,
   "id": "de758df2",
   "metadata": {},
   "outputs": [
    {
     "data": {
      "text/plain": [
       "'T'"
      ]
     },
     "execution_count": 33,
     "metadata": {},
     "output_type": "execute_result"
    }
   ],
   "source": [
    "cadena1[-23]"
   ]
  },
  {
   "cell_type": "code",
   "execution_count": 36,
   "id": "25111a7a",
   "metadata": {},
   "outputs": [
    {
     "data": {
      "text/plain": [
       "'versi'"
      ]
     },
     "execution_count": 36,
     "metadata": {},
     "output_type": "execute_result"
    }
   ],
   "source": [
    "#Para mostrar una subcanea [desde,hasta una antes]\n",
    "cadena1[3:8]"
   ]
  },
  {
   "cell_type": "code",
   "execution_count": 37,
   "id": "f0822312",
   "metadata": {},
   "outputs": [
    {
     "data": {
      "text/plain": [
       "44"
      ]
     },
     "execution_count": 37,
     "metadata": {},
     "output_type": "execute_result"
    }
   ],
   "source": [
    "#Para saber el tamaño de una cadena se usa len()\n",
    "#Incluye espacios en blanco\n",
    "len(cadena1)"
   ]
  },
  {
   "cell_type": "code",
   "execution_count": 39,
   "id": "716eeec8",
   "metadata": {},
   "outputs": [
    {
     "data": {
      "text/plain": [
       "'UNIVERSIDAD NACIONAL TECNOLÓGICA DE LIMA SUR'"
      ]
     },
     "execution_count": 39,
     "metadata": {},
     "output_type": "execute_result"
    }
   ],
   "source": [
    "#Para mostrar una cadena en mayúscula utilizamos upper()\n",
    "cadena1.upper()"
   ]
  },
  {
   "cell_type": "code",
   "execution_count": 40,
   "id": "25a3dc8f",
   "metadata": {},
   "outputs": [],
   "source": [
    "#OJO ----> El original sigue siendo igual"
   ]
  },
  {
   "cell_type": "code",
   "execution_count": 42,
   "id": "14023652",
   "metadata": {},
   "outputs": [
    {
     "data": {
      "text/plain": [
       "'UNIVERSIDAD NACIONAL TECNOLÓGICA DE LIMA SUR'"
      ]
     },
     "execution_count": 42,
     "metadata": {},
     "output_type": "execute_result"
    }
   ],
   "source": [
    "cadena2 = cadena1.upper()\n",
    "cadena2"
   ]
  },
  {
   "cell_type": "code",
   "execution_count": 43,
   "id": "5aecdb10",
   "metadata": {},
   "outputs": [
    {
     "data": {
      "text/plain": [
       "'universidad nacional tecnológica de lima sur'"
      ]
     },
     "execution_count": 43,
     "metadata": {},
     "output_type": "execute_result"
    }
   ],
   "source": [
    "#Para mostrar una cadena en minúscula utilizamos lower()\n",
    "cadena1.lower()"
   ]
  },
  {
   "cell_type": "code",
   "execution_count": 44,
   "id": "62d53a2d",
   "metadata": {},
   "outputs": [
    {
     "data": {
      "text/plain": [
       "'Universidad nacional tecnológica de lima sur'"
      ]
     },
     "execution_count": 44,
     "metadata": {},
     "output_type": "execute_result"
    }
   ],
   "source": [
    "#Para mostrar una cadena con la primera letra mayús a utilizamos capitalize()\n",
    "cadena1. capitalize()"
   ]
  },
  {
   "cell_type": "code",
   "execution_count": 45,
   "id": "da8fe5a7",
   "metadata": {},
   "outputs": [
    {
     "data": {
      "text/plain": [
       "['UNIVERSIDAD', 'NACIONAL', 'TECNOLÓGICA', 'DE', 'LIMA', 'SUR']"
      ]
     },
     "execution_count": 45,
     "metadata": {},
     "output_type": "execute_result"
    }
   ],
   "source": [
    "#Generar lista a partir de una cadena se usa split()\n",
    "cadena2.split()"
   ]
  },
  {
   "cell_type": "code",
   "execution_count": 48,
   "id": "94c29678",
   "metadata": {},
   "outputs": [
    {
     "data": {
      "text/plain": [
       "['UNIVERSID', 'D N', 'CION', 'L TECNOLÓGIC', ' DE LIM', ' SUR']"
      ]
     },
     "execution_count": 48,
     "metadata": {},
     "output_type": "execute_result"
    }
   ],
   "source": [
    "#Generar criterio de separación a partir de una cadena split()\n",
    "#Indicar criterio de separación\n",
    "#Generar lista de toda la cadena usando la letra \"A\"\n",
    "cadena2.split(\"A\")"
   ]
  },
  {
   "cell_type": "code",
   "execution_count": 49,
   "id": "1d71af13",
   "metadata": {},
   "outputs": [
    {
     "name": "stdout",
     "output_type": "stream",
     "text": [
      "Buenos días Emily\n"
     ]
    }
   ],
   "source": [
    "#1 Forma clásica para concatenar con \"+\"\n",
    "nombre = \"Emily\"\n",
    "print(\"Buenos días \" + nombre)"
   ]
  },
  {
   "cell_type": "code",
   "execution_count": 53,
   "id": "9912c8cf",
   "metadata": {},
   "outputs": [
    {
     "name": "stdout",
     "output_type": "stream",
     "text": [
      "Hola Paco Huamani, ya sé que tienes 15\n"
     ]
    }
   ],
   "source": [
    "#2 Forma  para concatenar con format()\n",
    "nombre = \"Paco Huamani\"\n",
    "edad = 15\n",
    "print(\"Hola {}, ya sé que tienes {}\".format(nombre, edad))"
   ]
  },
  {
   "cell_type": "code",
   "execution_count": 61,
   "id": "020a0dc6",
   "metadata": {},
   "outputs": [
    {
     "name": "stdout",
     "output_type": "stream",
     "text": [
      "10/3 es 3.3333333333333335\n",
      "10/3 es 3.333\n"
     ]
    }
   ],
   "source": [
    "#Dar formato a número con mchos decimales\n",
    "resultado = 10/3\n",
    "print(\"10/3 es {}\".format(resultado))\n",
    "print(\"10/3 es {r:1.3f}\".format(r=resultado))"
   ]
  },
  {
   "cell_type": "code",
   "execution_count": 62,
   "id": "ce35643d",
   "metadata": {},
   "outputs": [
    {
     "name": "stdout",
     "output_type": "stream",
     "text": [
      "Buenos días Daneli Lévano, ya sé que tienes 10 años\n"
     ]
    }
   ],
   "source": [
    "#Dar formato con f\n",
    "# La función f está disponible desde la versión 3.6\n",
    "nombre = \"Daneli Lévano\"\n",
    "edad = 10\n",
    "print(f\"Buenos días {nombre}, ya sé que tienes {edad} años\")"
   ]
  },
  {
   "cell_type": "code",
   "execution_count": 63,
   "id": "8c3daa50",
   "metadata": {},
   "outputs": [
    {
     "name": "stdout",
     "output_type": "stream",
     "text": [
      "10/3 es 3.3333333333333335\n",
      "10/3 es 3.333\n"
     ]
    }
   ],
   "source": [
    "#Dar formato a número con mchos decimales\n",
    "resultado = 10/3\n",
    "print(f\"10/3 es {resultado}\")\n",
    "print(f\"10/3 es {resultado:1.3f}\")"
   ]
  },
  {
   "cell_type": "code",
   "execution_count": 64,
   "id": "17d7d24d",
   "metadata": {},
   "outputs": [
    {
     "name": "stdout",
     "output_type": "stream",
     "text": [
      "texto a imprimirhola\n"
     ]
    },
    {
     "data": {
      "text/plain": [
       "'hola'"
      ]
     },
     "execution_count": 64,
     "metadata": {},
     "output_type": "execute_result"
    }
   ],
   "source": [
    "variable = input('texto a imprimir')\n",
    "variable"
   ]
  },
  {
   "cell_type": "code",
   "execution_count": 67,
   "id": "5de5643e",
   "metadata": {},
   "outputs": [
    {
     "data": {
      "text/plain": [
       "133.25"
      ]
     },
     "execution_count": 67,
     "metadata": {},
     "output_type": "execute_result"
    }
   ],
   "source": [
    "13/100*1025"
   ]
  },
  {
   "cell_type": "code",
   "execution_count": null,
   "id": "cfff950b",
   "metadata": {},
   "outputs": [],
   "source": []
  }
 ],
 "metadata": {
  "kernelspec": {
   "display_name": "Python 3 (ipykernel)",
   "language": "python",
   "name": "python3"
  },
  "language_info": {
   "codemirror_mode": {
    "name": "ipython",
    "version": 3
   },
   "file_extension": ".py",
   "mimetype": "text/x-python",
   "name": "python",
   "nbconvert_exporter": "python",
   "pygments_lexer": "ipython3",
   "version": "3.9.7"
  }
 },
 "nbformat": 4,
 "nbformat_minor": 5
}
