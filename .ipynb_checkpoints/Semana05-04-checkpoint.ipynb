{
 "cells": [
  {
   "cell_type": "markdown",
   "id": "2e7529fd",
   "metadata": {},
   "source": [
    "# SEMANA 05\n",
    "Emily Gomez Marcos :D"
   ]
  },
  {
   "cell_type": "markdown",
   "id": "5fe4d177",
   "metadata": {},
   "source": [
    "Temas:"
   ]
  },
  {
   "cell_type": "markdown",
   "id": "3fb5456b",
   "metadata": {},
   "source": [
    "1. Números\n",
    "2. Variables\n",
    "3. Manejo de Cadenas\n",
    "4. Ingreso de datos por teclado\n",
    "5. Operadores"
   ]
  },
  {
   "cell_type": "markdown",
   "id": "17a975d0",
   "metadata": {},
   "source": [
    "4. Ingreso de datos por teclado"
   ]
  },
  {
   "cell_type": "code",
   "execution_count": 1,
   "id": "0ac51bb7",
   "metadata": {},
   "outputs": [
    {
     "name": "stdout",
     "output_type": "stream",
     "text": [
      "¿Cuál es tu nombre?\n",
      "Emily\n",
      "Hola Emily\n"
     ]
    }
   ],
   "source": [
    "#Función input()\n",
    "print(\"¿Cuál es tu nombre?\")\n",
    "nombre = input()\n",
    "print(\"Hola \"+ nombre)"
   ]
  },
  {
   "cell_type": "code",
   "execution_count": null,
   "id": "a83eaaea",
   "metadata": {},
   "outputs": [],
   "source": [
    "#Cuando ingresa un valor por teclado lo hace como cadena"
   ]
  }
 ],
 "metadata": {
  "kernelspec": {
   "display_name": "Python 3 (ipykernel)",
   "language": "python",
   "name": "python3"
  },
  "language_info": {
   "codemirror_mode": {
    "name": "ipython",
    "version": 3
   },
   "file_extension": ".py",
   "mimetype": "text/x-python",
   "name": "python",
   "nbconvert_exporter": "python",
   "pygments_lexer": "ipython3",
   "version": "3.9.7"
  }
 },
 "nbformat": 4,
 "nbformat_minor": 5
}
