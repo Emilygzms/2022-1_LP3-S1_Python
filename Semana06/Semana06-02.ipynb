{
 "cells": [
  {
   "cell_type": "markdown",
   "id": "1d8226ab",
   "metadata": {},
   "source": [
    "# SEMANA 05\n",
    "\n",
    "Emily Gomez Marcos :D"
   ]
  },
  {
   "cell_type": "markdown",
   "id": "a43323c3",
   "metadata": {},
   "source": [
    "1. Colecicones de datos\n",
    "2. Estructuras decisivas y repetitivas\n",
    "3. Funciones\n",
    "4. Clases y objetos"
   ]
  },
  {
   "cell_type": "markdown",
   "id": "90d70c10",
   "metadata": {},
   "source": [
    "2. Estructuras decisivs y repetitivas\n"
   ]
  },
  {
   "cell_type": "code",
   "execution_count": 1,
   "id": "1f469cc8",
   "metadata": {},
   "outputs": [],
   "source": [
    "#2.1. Estrcuturas decisivas (if, elif, else)"
   ]
  },
  {
   "cell_type": "code",
   "execution_count": 2,
   "id": "db7f7d25",
   "metadata": {},
   "outputs": [],
   "source": [
    "# if\n",
    "#problema: dado el precio de 3 prodyctos ingresaos por teclado, aplicar descuento de 10% si la venta es mayor o igual A 1000\n"
   ]
  },
  {
   "cell_type": "code",
   "execution_count": 3,
   "id": "3cded3e7",
   "metadata": {},
   "outputs": [
    {
     "name": "stdout",
     "output_type": "stream",
     "text": [
      "Producto 1:250\n",
      "Producto 2:250\n",
      "Producto 3:600\n",
      "Total a pagar es: 990.0\n"
     ]
    }
   ],
   "source": [
    "#Solucion\n",
    "\n",
    "P1 = float(input(\"Producto 1:\"))\n",
    "P2 = float(input(\"Producto 2:\"))\n",
    "P3 = float(input(\"Producto 3:\"))\n",
    "\n",
    "total = P1 + P2 + P3\n",
    "if total>= 1000:\n",
    "    total *= 0.9\n",
    "    print(f\"Total a pagar es: {total}\")"
   ]
  },
  {
   "cell_type": "code",
   "execution_count": 4,
   "id": "cc5a9926",
   "metadata": {},
   "outputs": [],
   "source": [
    "#if else"
   ]
  },
  {
   "cell_type": "code",
   "execution_count": 5,
   "id": "a117e4c7",
   "metadata": {},
   "outputs": [],
   "source": [
    "# Problema 01 (Recordando)\n",
    "# Dado una lista de [ALANYA, ALVA, AZAÑERO, CARRASCO, CCACCYA, COSME, CUSI, DIAZ, FLORES, GOMEZ, GOMEZ, GRANADOS, HUANCAS, JULCA, LAURA,MOTTA,PINEDO,PONCE,QUINTANA,RODRIGUEZ,SERNA,VILCA,YAURICASA]\n",
    "# Diseñar un código que muestre si el apellido de un estudiante (Ingresado por teclado) forma parte de la lista"
   ]
  },
  {
   "cell_type": "code",
   "execution_count": 6,
   "id": "1e8b72f9",
   "metadata": {},
   "outputs": [
    {
     "name": "stdout",
     "output_type": "stream",
     "text": [
      "Ingrese nombre a buscar:CERDAN\n",
      "No está en la lista de LP3\n"
     ]
    }
   ],
   "source": [
    "#Solucion\n",
    "\n",
    "LP3 =[\"ALANYA\",\" ALVA\", \"AZAÑERO\", \"CARRASCO\", \"CCACCYA\", \"COSME\", \"CUSI\", \"DIAZ\", \"FLORES\", \"GOMEZ\", \"GOMEZ\", \"GRANADOS\", \"HUANCAS\", \"JULCA\", \"LAURA\",\"MOTTA\",\"PINEDO\",\"PONCE\",\"QUINTANA\",\"RODRIGUEZ\",\"SERNA\",\"VILCA\",\"YAURICASA\"]\n",
    "apellido = input(\"Ingrese nombre a buscar:\")\n",
    "\n",
    "#Como los datos están en mayúsculas, se usa upper()\n",
    "\n",
    "if apellido.upper() in LP3:\n",
    "    print(\"Si está en la lista de LP3\")\n",
    "else:\n",
    "    print(\"No está en la lista de LP3\")"
   ]
  },
  {
   "cell_type": "code",
   "execution_count": 7,
   "id": "8955d7d3",
   "metadata": {},
   "outputs": [],
   "source": [
    "# Problema 02\n",
    "# Dado el importe total de ventas realizadas por un trabajador (ingresado por teclado, \n",
    "# categorizar que tipo de empleado es, considerando la siguiente tabla:\n",
    "\n",
    "# Categoria: A -> [0, 1000]\n",
    "# Categoria: B -> <1000, 2000]\n",
    "# Categoria: C -> <2000, 5000]\n",
    "# Categoría: D -> <5000, Mas]\n",
    "\n",
    "# Tiempo asignado: 12 minutos\n"
   ]
  },
  {
   "cell_type": "code",
   "execution_count": 23,
   "id": "c6a8e994",
   "metadata": {},
   "outputs": [
    {
     "name": "stdout",
     "output_type": "stream",
     "text": [
      "Ingrese total de ventas:65465262.2541515\n",
      " El empleado se encuentra en la categoría D\n"
     ]
    }
   ],
   "source": [
    "tventas = float(input(\"Ingrese total de ventas:\"))\n",
    "\n",
    "if ((tventas >= 0)and(tventas <=2000)):\n",
    "    print(f\" El empleado se encuentra en la categoría A\")\n",
    "elif ((tventas > 1000)and(tventas <=2000)) :\n",
    "    print(f\" El empleado se encuentra en la categoría B\")\n",
    "elif ((tventas > 2000)and(tventas<=5000)) :\n",
    "    print(f\" El empleado se encuentra en la categoría C\")\n",
    "elif (tventas > 5000):\n",
    "    print(f\" El empleado se encuentra en la categoría D\")"
   ]
  },
  {
   "cell_type": "code",
   "execution_count": 24,
   "id": "9494fdc4",
   "metadata": {},
   "outputs": [],
   "source": [
    "#ESTRUCTURAS REPETITIVAS"
   ]
  },
  {
   "cell_type": "code",
   "execution_count": 25,
   "id": "adfc7286",
   "metadata": {},
   "outputs": [],
   "source": [
    "#for"
   ]
  },
  {
   "cell_type": "code",
   "execution_count": 26,
   "id": "3762df11",
   "metadata": {},
   "outputs": [
    {
     "name": "stdout",
     "output_type": "stream",
     "text": [
      "Yauricasa\n",
      "Granados\n",
      "Alva\n",
      "Laura\n"
     ]
    }
   ],
   "source": [
    "#Problema 01: Mostar los elementos de una lista utilizando for:\n",
    "\n",
    "aula = ['Yauricasa', 'Granados', 'Alva', 'Laura']\n",
    "#Por cada alumno que está en la lista, imprimir alumno\n",
    "\n",
    "for alumno in aula:\n",
    "    print(alumno)"
   ]
  },
  {
   "cell_type": "code",
   "execution_count": 37,
   "id": "df2874bf",
   "metadata": {},
   "outputs": [
    {
     "name": "stdout",
     "output_type": "stream",
     "text": [
      "Ingrese cadena: hola\n",
      "h\n",
      "o\n",
      "l\n",
      "a\n"
     ]
    }
   ],
   "source": [
    "# Problema 02\n",
    "#Dado una cadena ingresado por teclado, mostrar cada caractere de la lista usando for\n",
    "\n",
    "cadena = input(\"Ingrese cadena: \")\n",
    "for caracter in cadena:\n",
    "    print(caracter)"
   ]
  },
  {
   "cell_type": "code",
   "execution_count": 31,
   "id": "628fd163",
   "metadata": {},
   "outputs": [
    {
     "data": {
      "text/plain": [
       "range(0, 5)"
      ]
     },
     "execution_count": 31,
     "metadata": {},
     "output_type": "execute_result"
    }
   ],
   "source": [
    "#Para generar los rangos de los numeros se usa range()\n",
    "range(5)"
   ]
  },
  {
   "cell_type": "code",
   "execution_count": 32,
   "id": "38d345aa",
   "metadata": {},
   "outputs": [
    {
     "data": {
      "text/plain": [
       "range(0, 10)"
      ]
     },
     "execution_count": 32,
     "metadata": {},
     "output_type": "execute_result"
    }
   ],
   "source": [
    "#Imprimir los números de 0 a 10, utilizando for\n",
    "range(10)"
   ]
  },
  {
   "cell_type": "code",
   "execution_count": 36,
   "id": "e7c41feb",
   "metadata": {},
   "outputs": [
    {
     "name": "stdout",
     "output_type": "stream",
     "text": [
      "0\n",
      "1\n",
      "2\n",
      "3\n",
      "4\n",
      "5\n",
      "6\n",
      "7\n",
      "8\n",
      "9\n",
      "10\n"
     ]
    }
   ],
   "source": [
    "for numeros in range(11):\n",
    "     print(numeros)"
   ]
  },
  {
   "cell_type": "code",
   "execution_count": 39,
   "id": "e403b430",
   "metadata": {},
   "outputs": [
    {
     "name": "stdout",
     "output_type": "stream",
     "text": [
      "10\n",
      "12\n",
      "14\n",
      "16\n",
      "18\n",
      "20\n"
     ]
    }
   ],
   "source": [
    "#Problema 02\n",
    "#Imprimir los números de 10 a 20\n",
    "for numeros in range(10, 22, 2):\n",
    "    print(numeros)"
   ]
  },
  {
   "cell_type": "code",
   "execution_count": 43,
   "id": "d6b33b7e",
   "metadata": {},
   "outputs": [
    {
     "name": "stdout",
     "output_type": "stream",
     "text": [
      "[10, 20, 5, -10, 100, 0, 50, 17, 2000, -1000, 0]\n",
      "[-1000, -10, 0, 0, 5, 10, 17, 20, 50, 100, 2000]\n"
     ]
    }
   ],
   "source": [
    "#Problema 03\n",
    "#Dado una lista de números, utilizando el algoritmo de burbuja, ordenarlos de menor a mayor\n",
    "\n",
    "lista =[10,20,5,-10,100, 0, 50, 17, 2000,-1000,0]\n",
    "print(lista)\n",
    "\n",
    "for i in range(1, len(lista)):\n",
    "    for j in range(0, len(lista)-i):\n",
    "        if (lista[j+1] < lista[j]):\n",
    "            temp = lista[j]\n",
    "            lista[j]=lista[j+1]\n",
    "            lista[j+1]=temp\n",
    "\n",
    "print(lista)                \n"
   ]
  },
  {
   "cell_type": "code",
   "execution_count": null,
   "id": "85801309",
   "metadata": {},
   "outputs": [],
   "source": []
  }
 ],
 "metadata": {
  "kernelspec": {
   "display_name": "Python 3 (ipykernel)",
   "language": "python",
   "name": "python3"
  },
  "language_info": {
   "codemirror_mode": {
    "name": "ipython",
    "version": 3
   },
   "file_extension": ".py",
   "mimetype": "text/x-python",
   "name": "python",
   "nbconvert_exporter": "python",
   "pygments_lexer": "ipython3",
   "version": "3.9.7"
  }
 },
 "nbformat": 4,
 "nbformat_minor": 5
}
