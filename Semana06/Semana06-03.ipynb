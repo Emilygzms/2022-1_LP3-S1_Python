{
 "cells": [
  {
   "cell_type": "code",
   "execution_count": 3,
   "id": "9704658a",
   "metadata": {},
   "outputs": [
    {
     "name": "stdout",
     "output_type": "stream",
     "text": [
      "BIENVENIDOS AL CURSO DE LP3\n",
      "****PYTHON****\n"
     ]
    }
   ],
   "source": [
    "def saludo():\n",
    "    print(\"BIENVENIDOS AL CURSO DE LP3\")\n",
    "    print(\"****PYTHON****\")\n",
    "saludo()"
   ]
  },
  {
   "cell_type": "code",
   "execution_count": 4,
   "id": "7aee3111",
   "metadata": {},
   "outputs": [],
   "source": [
    "# 3.2.métodos que reciben valores\n",
    "\n",
    "def factorial(numero):\n",
    "    fac=1\n",
    "    for i in range(1, numero+1):\n",
    "        fac*=i\n",
    "        #fac = fac*i\n",
    "        print(f\"El factorial es: {fac}\")"
   ]
  },
  {
   "cell_type": "code",
   "execution_count": 5,
   "id": "f0931b00",
   "metadata": {},
   "outputs": [
    {
     "name": "stdout",
     "output_type": "stream",
     "text": [
      "Ingrese el número: 5\n",
      "El factorial es: 1\n",
      "El factorial es: 2\n",
      "El factorial es: 6\n",
      "El factorial es: 24\n",
      "El factorial es: 120\n"
     ]
    }
   ],
   "source": [
    "numero= int(input(\"Ingrese el número: \"))\n",
    "factorial(numero)"
   ]
  },
  {
   "cell_type": "code",
   "execution_count": 6,
   "id": "78778b80",
   "metadata": {},
   "outputs": [],
   "source": [
    "#3.3 metodos que devuelven valores\n",
    "def saludo2():\n",
    "    mensaje=\"Bienvenidos a lp3\"\n",
    "    return mensaje"
   ]
  },
  {
   "cell_type": "code",
   "execution_count": 8,
   "id": "413c02aa",
   "metadata": {},
   "outputs": [
    {
     "name": "stdout",
     "output_type": "stream",
     "text": [
      "Bienvenidos a lp3\n"
     ]
    }
   ],
   "source": [
    "print(saludo2())"
   ]
  },
  {
   "cell_type": "code",
   "execution_count": 15,
   "id": "dd5927ae",
   "metadata": {},
   "outputs": [],
   "source": [
    "#metodos que reciben y devuelven valores\n",
    "\n",
    "def factorial2(numero):\n",
    "    fac = 1\n",
    "    for i in range(1, numero+1):\n",
    "        fac*=i\n",
    "    return fac"
   ]
  },
  {
   "cell_type": "code",
   "execution_count": 18,
   "id": "e17df1cc",
   "metadata": {},
   "outputs": [
    {
     "name": "stdout",
     "output_type": "stream",
     "text": [
      "Numero: 5\n",
      "El factorial de 5  es 120\n"
     ]
    }
   ],
   "source": [
    "numero = int(input(\"Numero: \"))\n",
    "print(f\"El factorial de {numero}  es {factorial2(numero)}\")"
   ]
  },
  {
   "cell_type": "code",
   "execution_count": 19,
   "id": "8222ca57",
   "metadata": {},
   "outputs": [],
   "source": [
    "# Otro ejemplo:\n",
    "# Calcular el igv\n",
    "\n",
    "def obtenerigv(importe):\n",
    "    return importe*0.19\n"
   ]
  },
  {
   "cell_type": "code",
   "execution_count": 20,
   "id": "68d141fe",
   "metadata": {},
   "outputs": [
    {
     "data": {
      "text/plain": [
       "140"
      ]
     },
     "execution_count": 20,
     "metadata": {},
     "output_type": "execute_result"
    }
   ],
   "source": [
    "obtenerigv(150)\n",
    "factorial2(5) +20"
   ]
  },
  {
   "cell_type": "code",
   "execution_count": null,
   "id": "29891043",
   "metadata": {},
   "outputs": [],
   "source": []
  }
 ],
 "metadata": {
  "kernelspec": {
   "display_name": "Python 3 (ipykernel)",
   "language": "python",
   "name": "python3"
  },
  "language_info": {
   "codemirror_mode": {
    "name": "ipython",
    "version": 3
   },
   "file_extension": ".py",
   "mimetype": "text/x-python",
   "name": "python",
   "nbconvert_exporter": "python",
   "pygments_lexer": "ipython3",
   "version": "3.9.7"
  }
 },
 "nbformat": 4,
 "nbformat_minor": 5
}
