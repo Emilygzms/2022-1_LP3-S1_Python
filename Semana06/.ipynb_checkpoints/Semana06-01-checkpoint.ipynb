{
 "cells": [
  {
   "cell_type": "markdown",
   "id": "4006f6a5",
   "metadata": {},
   "source": [
    "# Semana 06\n",
    "\n",
    "Emily Gomez Marcos"
   ]
  },
  {
   "cell_type": "markdown",
   "id": "8c877d2c",
   "metadata": {},
   "source": [
    "1. Colecciones de datos "
   ]
  },
  {
   "cell_type": "code",
   "execution_count": 1,
   "id": "00191b4b",
   "metadata": {},
   "outputs": [
    {
     "name": "stdout",
     "output_type": "stream",
     "text": [
      "['Yauricasa', 'Granados', 'Alva', 'Laura']\n"
     ]
    }
   ],
   "source": [
    "# 1.1. Listas\n",
    "# Es una colección de elementos que pueden ser ordenados, modifidados, etc\n",
    "# S e identifican por los corchetes\n",
    "# Ejemplo:\n",
    "\n",
    "aula = ['Yauricasa', 'Granados', 'Alva', 'Laura']\n",
    "print(aula)"
   ]
  },
  {
   "cell_type": "code",
   "execution_count": 2,
   "id": "eb9b6434",
   "metadata": {},
   "outputs": [
    {
     "data": {
      "text/plain": [
       "['Yauricasa', 'Granados', 'Alva', 'Laura']"
      ]
     },
     "execution_count": 2,
     "metadata": {},
     "output_type": "execute_result"
    }
   ],
   "source": [
    "aula"
   ]
  },
  {
   "cell_type": "code",
   "execution_count": 5,
   "id": "fcd206aa",
   "metadata": {},
   "outputs": [
    {
     "name": "stdout",
     "output_type": "stream",
     "text": [
      "Laura\n",
      "Yauricasa\n"
     ]
    }
   ],
   "source": [
    "# Extraer elementos por su posición\n",
    "print(aula[3])\n",
    "print(aula[0])"
   ]
  },
  {
   "cell_type": "code",
   "execution_count": 7,
   "id": "e62fa985",
   "metadata": {},
   "outputs": [
    {
     "data": {
      "text/plain": [
       "'Chavez'"
      ]
     },
     "execution_count": 7,
     "metadata": {},
     "output_type": "execute_result"
    }
   ],
   "source": [
    "# Puedo asignar un valor a una posición de la lista\n",
    "aula[1] = 'Chavez'\n",
    "aula[1]"
   ]
  },
  {
   "cell_type": "code",
   "execution_count": 9,
   "id": "36fd4d4b",
   "metadata": {},
   "outputs": [
    {
     "data": {
      "text/plain": [
       "['Yauricasa', 'Chavez', 'Alva', 'Laura']"
      ]
     },
     "execution_count": 9,
     "metadata": {},
     "output_type": "execute_result"
    }
   ],
   "source": [
    "#Mostramos como quedó la lista\n",
    "aula"
   ]
  },
  {
   "cell_type": "code",
   "execution_count": 15,
   "id": "9a382f34",
   "metadata": {},
   "outputs": [],
   "source": [
    "# Para agregar un elemento se usa append\n",
    "aula.append(\"Huaman\")\n",
    "aula.append('Chavez')"
   ]
  },
  {
   "cell_type": "code",
   "execution_count": 16,
   "id": "baa11aee",
   "metadata": {},
   "outputs": [
    {
     "data": {
      "text/plain": [
       "['Yauricasa', 'Chavez', 'Alva', 'Laura', 'Huaman', 'Huaman', 'Chavez']"
      ]
     },
     "execution_count": 16,
     "metadata": {},
     "output_type": "execute_result"
    }
   ],
   "source": [
    "aula"
   ]
  },
  {
   "cell_type": "code",
   "execution_count": 18,
   "id": "0c62b59b",
   "metadata": {},
   "outputs": [],
   "source": [
    "# Para eliminar elementos utilizamos remove[]\n",
    "aula.remove(\"Yauricasa\")"
   ]
  },
  {
   "cell_type": "code",
   "execution_count": 19,
   "id": "3cae87e0",
   "metadata": {},
   "outputs": [
    {
     "data": {
      "text/plain": [
       "['Chavez', 'Alva', 'Laura', 'Huaman', 'Huaman', 'Chavez']"
      ]
     },
     "execution_count": 19,
     "metadata": {},
     "output_type": "execute_result"
    }
   ],
   "source": [
    "aula"
   ]
  },
  {
   "cell_type": "code",
   "execution_count": 20,
   "id": "b2cc6432",
   "metadata": {},
   "outputs": [],
   "source": [
    "#Si hubiera varios elementos de valores igales se elimina la primera coincidencia\n",
    "aula.remove(\"Chavez\")"
   ]
  },
  {
   "cell_type": "code",
   "execution_count": 21,
   "id": "c445ca32",
   "metadata": {},
   "outputs": [
    {
     "data": {
      "text/plain": [
       "['Alva', 'Laura', 'Huaman', 'Huaman', 'Chavez']"
      ]
     },
     "execution_count": 21,
     "metadata": {},
     "output_type": "execute_result"
    }
   ],
   "source": [
    "aula"
   ]
  },
  {
   "cell_type": "code",
   "execution_count": 25,
   "id": "e9e06320",
   "metadata": {},
   "outputs": [
    {
     "data": {
      "text/plain": [
       "5"
      ]
     },
     "execution_count": 25,
     "metadata": {},
     "output_type": "execute_result"
    }
   ],
   "source": [
    "#Para obtener el tamaño utilizamos len\n",
    "len(aula)"
   ]
  },
  {
   "cell_type": "code",
   "execution_count": 32,
   "id": "989c42fe",
   "metadata": {},
   "outputs": [
    {
     "data": {
      "text/plain": [
       "['Alva', 'Laura', 'Chavez']"
      ]
     },
     "execution_count": 32,
     "metadata": {},
     "output_type": "execute_result"
    }
   ],
   "source": [
    "#Para eliminar por numero de posición aula.remove(aula[0])\n",
    "aula.pop(2)\n",
    "aula"
   ]
  },
  {
   "cell_type": "code",
   "execution_count": 36,
   "id": "2e3fff7c",
   "metadata": {},
   "outputs": [
    {
     "name": "stdout",
     "output_type": "stream",
     "text": [
      "Alva\n",
      "Laura\n",
      "Chavez\n"
     ]
    }
   ],
   "source": [
    "for alumno in aula:\n",
    "    print(alumno)"
   ]
  },
  {
   "cell_type": "code",
   "execution_count": 37,
   "id": "5bc24d56",
   "metadata": {},
   "outputs": [
    {
     "data": {
      "text/plain": [
       "['Alva', 'Laura', 'Chavez', 'Vilca', 'Gavino']"
      ]
     },
     "execution_count": 37,
     "metadata": {},
     "output_type": "execute_result"
    }
   ],
   "source": [
    "aula.append('Vilca')\n",
    "aula.append('Gavino')\n",
    "aula"
   ]
  },
  {
   "cell_type": "code",
   "execution_count": 41,
   "id": "bab5d7ac",
   "metadata": {},
   "outputs": [
    {
     "name": "stdout",
     "output_type": "stream",
     "text": [
      "Alva\n",
      "Laura\n",
      "Chavez\n",
      "Vilca\n",
      "Gavino\n"
     ]
    }
   ],
   "source": [
    "for alumno in aula:\n",
    "    print(alumno)"
   ]
  },
  {
   "cell_type": "code",
   "execution_count": 44,
   "id": "c5d298c7",
   "metadata": {},
   "outputs": [
    {
     "data": {
      "text/plain": [
       "['Gavino', 'Vilca', 'Chavez', 'Laura', 'Alva']"
      ]
     },
     "execution_count": 44,
     "metadata": {},
     "output_type": "execute_result"
    }
   ],
   "source": [
    "# Para invertir la lista utilizamos reverse()\n",
    "#Invertir NO SIGNIFICA ordenar en  forma descendente\n",
    "aula.reverse()\n",
    "aula"
   ]
  },
  {
   "cell_type": "code",
   "execution_count": 45,
   "id": "84b22df6",
   "metadata": {},
   "outputs": [
    {
     "data": {
      "text/plain": [
       "['Alva', 'Chavez', 'Gavino', 'Laura', 'Vilca']"
      ]
     },
     "execution_count": 45,
     "metadata": {},
     "output_type": "execute_result"
    }
   ],
   "source": [
    "#Para ordenar una lista utilizamos sort()\n",
    "aula.sort()\n",
    "aula"
   ]
  },
  {
   "cell_type": "code",
   "execution_count": 46,
   "id": "be69cdf4",
   "metadata": {},
   "outputs": [],
   "source": [
    "#1.2. Tuplas\n",
    "#Es una colección de elementos ordenada (tiene un índice) que no se puede \n",
    "# modificar, es inalterable \n",
    "#No se pueden agregar elementos ni eliminar\n",
    "#Se identifican por los paréntesis\n",
    "\n",
    "tupla_aula = ('Granados', 'Julca', 'Cusi', 'Marcos')"
   ]
  },
  {
   "cell_type": "code",
   "execution_count": 47,
   "id": "2e32f35e",
   "metadata": {},
   "outputs": [
    {
     "name": "stdout",
     "output_type": "stream",
     "text": [
      "Granados\n",
      "Julca\n",
      "Cusi\n",
      "Marcos\n"
     ]
    }
   ],
   "source": [
    "#Se puede recorrer con una esdtructura repetitiva\n",
    "#ejejmplo for\n",
    "for alumno in tupla_aula:\n",
    "    print(alumno)"
   ]
  },
  {
   "cell_type": "code",
   "execution_count": 48,
   "id": "68377281",
   "metadata": {},
   "outputs": [
    {
     "data": {
      "text/plain": [
       "'Cusi'"
      ]
     },
     "execution_count": 48,
     "metadata": {},
     "output_type": "execute_result"
    }
   ],
   "source": [
    "#Se puede extraer un elemento por su posición\n",
    "tupla_aula[2]"
   ]
  },
  {
   "cell_type": "code",
   "execution_count": 49,
   "id": "3d88141d",
   "metadata": {},
   "outputs": [
    {
     "data": {
      "text/plain": [
       "4"
      ]
     },
     "execution_count": 49,
     "metadata": {},
     "output_type": "execute_result"
    }
   ],
   "source": [
    "len(tupla_aula)"
   ]
  },
  {
   "cell_type": "code",
   "execution_count": 50,
   "id": "b9700c4e",
   "metadata": {},
   "outputs": [
    {
     "data": {
      "text/plain": [
       "{'Cusi', 'Granados', 'Julca', 'Marcos'}"
      ]
     },
     "execution_count": 50,
     "metadata": {},
     "output_type": "execute_result"
    }
   ],
   "source": [
    "# 1.3. Conjuntos\n",
    "#Es una colección de elementoa que no está ordenado(significa que no tiene indice)\n",
    "conjunto_aula = {'Granados', 'Julca', 'Cusi', 'Marcos'}\n",
    "conjunto_aula"
   ]
  },
  {
   "cell_type": "code",
   "execution_count": 51,
   "id": "40d1eee3",
   "metadata": {},
   "outputs": [
    {
     "name": "stdout",
     "output_type": "stream",
     "text": [
      "Cusi\n",
      "Granados\n",
      "Marcos\n",
      "Julca\n"
     ]
    }
   ],
   "source": [
    "#Se puede recorrer utilizando una esructura repetitiva (for)\n",
    "for alumno in conjunto_aula:\n",
    "    print(alumno)"
   ]
  },
  {
   "cell_type": "code",
   "execution_count": 53,
   "id": "6a9a9823",
   "metadata": {},
   "outputs": [],
   "source": [
    "#Observación: No se puede acceder por posicion porque no considera indexacion\n",
    "#Ejemplo:\n",
    "# conjunto_aula[2] devolverá un mensaje de error"
   ]
  },
  {
   "cell_type": "code",
   "execution_count": 54,
   "id": "b1868296",
   "metadata": {},
   "outputs": [
    {
     "data": {
      "text/plain": [
       "4"
      ]
     },
     "execution_count": 54,
     "metadata": {},
     "output_type": "execute_result"
    }
   ],
   "source": [
    "len(conjunto_aula)"
   ]
  },
  {
   "cell_type": "code",
   "execution_count": 56,
   "id": "9a7a9c27",
   "metadata": {},
   "outputs": [
    {
     "data": {
      "text/plain": [
       "{'Cusi', 'Granados', 'Julca', 'Marcos', 'Motta'}"
      ]
     },
     "execution_count": 56,
     "metadata": {},
     "output_type": "execute_result"
    }
   ],
   "source": [
    "# Para agregar utilizamos la función add()\n",
    "conjunto_aula.add(\"Motta\")\n",
    "conjunto_aula"
   ]
  },
  {
   "cell_type": "code",
   "execution_count": 61,
   "id": "54222dcb",
   "metadata": {},
   "outputs": [
    {
     "data": {
      "text/plain": [
       "{'Cusi', 'Julca', 'Marcos', 'Motta'}"
      ]
     },
     "execution_count": 61,
     "metadata": {},
     "output_type": "execute_result"
    }
   ],
   "source": [
    "conjunto_aula.remove('Granados')\n",
    "conjunto_aula"
   ]
  },
  {
   "cell_type": "code",
   "execution_count": 62,
   "id": "418365b5",
   "metadata": {},
   "outputs": [],
   "source": [
    "# 1.4. Diccionario"
   ]
  },
  {
   "cell_type": "code",
   "execution_count": 64,
   "id": "65ed48f3",
   "metadata": {},
   "outputs": [
    {
     "data": {
      "text/plain": [
       "{2: 'Cusi', '1': 'Julca', 'dos': 'Marcos', '0': 'Motta'}"
      ]
     },
     "execution_count": 64,
     "metadata": {},
     "output_type": "execute_result"
    }
   ],
   "source": [
    "# Colección de elementoa que están indexados, no están ordenados y se pueden modificar\n",
    "#Son escritos etre llaves y están formados por pares de elementos INDICE:VALOR\n",
    "\n",
    "diccionario_aula = {2:'Cusi', '1':'Julca', 'dos':'Marcos', '0':'Motta'}\n",
    "diccionario_aula"
   ]
  },
  {
   "cell_type": "code",
   "execution_count": 65,
   "id": "08e43e14",
   "metadata": {},
   "outputs": [
    {
     "data": {
      "text/plain": [
       "'Motta'"
      ]
     },
     "execution_count": 65,
     "metadata": {},
     "output_type": "execute_result"
    }
   ],
   "source": [
    "#Diccionario_aula extraer el valor cuyo índice sea cero en String\n",
    "diccionario_aula['0']"
   ]
  },
  {
   "cell_type": "code",
   "execution_count": 66,
   "id": "add90e38",
   "metadata": {},
   "outputs": [
    {
     "data": {
      "text/plain": [
       "'Marcos'"
      ]
     },
     "execution_count": 66,
     "metadata": {},
     "output_type": "execute_result"
    }
   ],
   "source": [
    "diccionario_aula['dos']"
   ]
  },
  {
   "cell_type": "code",
   "execution_count": 68,
   "id": "db57d72d",
   "metadata": {},
   "outputs": [
    {
     "data": {
      "text/plain": [
       "{2: 'Cusi', '1': 'Julca', 'dos': 'Marcos', '0': 'Motta', '20': 'Serna'}"
      ]
     },
     "execution_count": 68,
     "metadata": {},
     "output_type": "execute_result"
    }
   ],
   "source": [
    "diccionario_aula['20']=\"Serna\"\n",
    "diccionario_aula"
   ]
  },
  {
   "cell_type": "code",
   "execution_count": 69,
   "id": "51b84d30",
   "metadata": {},
   "outputs": [
    {
     "data": {
      "text/plain": [
       "{'1': 'Julca', 'dos': 'Marcos', '0': 'Motta', '20': 'Serna'}"
      ]
     },
     "execution_count": 69,
     "metadata": {},
     "output_type": "execute_result"
    }
   ],
   "source": [
    "diccionario_aula.pop(2)\n",
    "diccionario_aula"
   ]
  },
  {
   "cell_type": "code",
   "execution_count": 71,
   "id": "b57acd76",
   "metadata": {},
   "outputs": [],
   "source": [
    "del diccionario_aula['dos']"
   ]
  },
  {
   "cell_type": "code",
   "execution_count": 72,
   "id": "d5eb1f69",
   "metadata": {},
   "outputs": [
    {
     "data": {
      "text/plain": [
       "{'1': 'Julca', '0': 'Motta', '20': 'Serna'}"
      ]
     },
     "execution_count": 72,
     "metadata": {},
     "output_type": "execute_result"
    }
   ],
   "source": [
    "diccionario_aula"
   ]
  },
  {
   "cell_type": "code",
   "execution_count": 73,
   "id": "a2770ba5",
   "metadata": {},
   "outputs": [
    {
     "name": "stdout",
     "output_type": "stream",
     "text": [
      "1\n",
      "0\n",
      "20\n"
     ]
    }
   ],
   "source": [
    "# Por recorrer todos los elementos utilizamos for\n",
    "for indice in diccionario_aula:\n",
    "    print(indice)"
   ]
  },
  {
   "cell_type": "code",
   "execution_count": 2,
   "id": "87149b8d",
   "metadata": {},
   "outputs": [
    {
     "ename": "NameError",
     "evalue": "name 'diccionario_aula' is not defined",
     "output_type": "error",
     "traceback": [
      "\u001b[1;31m---------------------------------------------------------------------------\u001b[0m",
      "\u001b[1;31mNameError\u001b[0m                                 Traceback (most recent call last)",
      "\u001b[1;32m~\\AppData\\Local\\Temp/ipykernel_19500/1899448576.py\u001b[0m in \u001b[0;36m<module>\u001b[1;34m\u001b[0m\n\u001b[1;32m----> 1\u001b[1;33m \u001b[1;32mfor\u001b[0m \u001b[0mindice\u001b[0m\u001b[1;33m,\u001b[0m \u001b[0mvalor\u001b[0m \u001b[1;32min\u001b[0m \u001b[0mdiccionario_aula\u001b[0m\u001b[1;33m.\u001b[0m\u001b[0mitems\u001b[0m\u001b[1;33m(\u001b[0m\u001b[1;33m)\u001b[0m\u001b[1;33m:\u001b[0m\u001b[1;33m\u001b[0m\u001b[1;33m\u001b[0m\u001b[0m\n\u001b[0m\u001b[0;32m      2\u001b[0m     \u001b[0mprint\u001b[0m\u001b[1;33m(\u001b[0m\u001b[0mindice\u001b[0m\u001b[1;33m,\u001b[0m \u001b[0mvalor\u001b[0m\u001b[1;33m)\u001b[0m\u001b[1;33m\u001b[0m\u001b[1;33m\u001b[0m\u001b[0m\n",
      "\u001b[1;31mNameError\u001b[0m: name 'diccionario_aula' is not defined"
     ]
    }
   ],
   "source": [
    "for indice, valor in diccionario_aula.items():\n",
    "    print(indice, valor)"
   ]
  },
  {
   "cell_type": "code",
   "execution_count": 86,
   "id": "de68b11f",
   "metadata": {},
   "outputs": [
    {
     "name": "stdout",
     "output_type": "stream",
     "text": [
      "Ingrese apellido\n",
      "TABRAJ\n",
      "¿Se encuentra en la lista?\n"
     ]
    },
    {
     "data": {
      "text/plain": [
       "False"
      ]
     },
     "execution_count": 86,
     "metadata": {},
     "output_type": "execute_result"
    }
   ],
   "source": [
    "#Ejercicio\n",
    "#Dado una lista ....\n",
    "#Diseñar un codigo que muestre si el apellido de un estudiante forma parte de la lista\n",
    "\n",
    "aula2 = [\"ALANYA\", \"ALVA\", \"AZAÑERO\", \"CARRASCO\", \"CCACCYA\", \"COSME\",\n",
    "         \"CUSI\", \"DIAZ\", \"FLORES\", \"GOMEZ\", \"GOMEZ\", \"GRANADOS\",\n",
    "         \"HUANCAS\", \"JULCA\", \"LAURA\", \"MOTTA\", \"PINEDO\", \"PONCE\",\n",
    "         \"QUINTANA\", \"RODRIGUEZ\", \"SERNA\", \"VILCA\", \"YAURICASA\"]\n",
    "print(\"Ingrese apellido\")\n",
    "apellido = input()\n",
    "print(\"¿Se encuentra en la lista?\")\n",
    "apellido in aula2"
   ]
  },
  {
   "cell_type": "code",
   "execution_count": 80,
   "id": "b18aeba1",
   "metadata": {},
   "outputs": [
    {
     "data": {
      "text/plain": [
       "False"
      ]
     },
     "execution_count": 80,
     "metadata": {},
     "output_type": "execute_result"
    }
   ],
   "source": []
  },
  {
   "cell_type": "code",
   "execution_count": null,
   "id": "9288dc67",
   "metadata": {},
   "outputs": [],
   "source": []
  }
 ],
 "metadata": {
  "kernelspec": {
   "display_name": "Python 3 (ipykernel)",
   "language": "python",
   "name": "python3"
  },
  "language_info": {
   "codemirror_mode": {
    "name": "ipython",
    "version": 3
   },
   "file_extension": ".py",
   "mimetype": "text/x-python",
   "name": "python",
   "nbconvert_exporter": "python",
   "pygments_lexer": "ipython3",
   "version": "3.9.7"
  }
 },
 "nbformat": 4,
 "nbformat_minor": 5
}
