{
 "cells": [
  {
   "cell_type": "markdown",
   "id": "f4a4ce05",
   "metadata": {},
   "source": [
    "# Semana 06\n",
    "\n",
    "Emily Gomez Marcos"
   ]
  },
  {
   "cell_type": "markdown",
   "id": "6fc8160f",
   "metadata": {},
   "source": [
    "1. Clases y objetos\n"
   ]
  },
  {
   "cell_type": "code",
   "execution_count": 1,
   "id": "10b17bf3",
   "metadata": {},
   "outputs": [],
   "source": [
    "#Problema \n",
    "#Crear la siguiente clase:\n",
    "#clase:persona\n",
    "#atributos:nombre, apellido, talla, dni\n"
   ]
  },
  {
   "cell_type": "code",
   "execution_count": 2,
   "id": "22426d17",
   "metadata": {},
   "outputs": [],
   "source": [
    "class Persona:\n",
    "    nombre=\"\"\n",
    "    apellidos=\"\"\n",
    "    dni=\"\"\n",
    "    talla=0"
   ]
  },
  {
   "cell_type": "code",
   "execution_count": null,
   "id": "62617e11",
   "metadata": {},
   "outputs": [],
   "source": [
    "#Creación de objeto persona1"
   ]
  }
 ],
 "metadata": {
  "kernelspec": {
   "display_name": "Python 3 (ipykernel)",
   "language": "python",
   "name": "python3"
  },
  "language_info": {
   "codemirror_mode": {
    "name": "ipython",
    "version": 3
   },
   "file_extension": ".py",
   "mimetype": "text/x-python",
   "name": "python",
   "nbconvert_exporter": "python",
   "pygments_lexer": "ipython3",
   "version": "3.9.7"
  }
 },
 "nbformat": 4,
 "nbformat_minor": 5
}
