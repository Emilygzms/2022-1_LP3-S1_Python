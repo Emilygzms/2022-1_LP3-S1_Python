{
 "cells": [
  {
   "cell_type": "markdown",
   "id": "7063256f",
   "metadata": {},
   "source": [
    "# SEMANA 05\n",
    "\n",
    "Emily Gomez Marcos :D"
   ]
  },
  {
   "cell_type": "markdown",
   "id": "6289a83d",
   "metadata": {},
   "source": [
    "1. Colecicones de datos\n",
    "2. Estructuras decisivas y repetitivas\n",
    "3. Funciones\n",
    "4. Clases y objetos"
   ]
  },
  {
   "cell_type": "markdown",
   "id": "6768ed0a",
   "metadata": {},
   "source": [
    "2. Estructuras decisivs y repetitivas\n"
   ]
  },
  {
   "cell_type": "code",
   "execution_count": 1,
   "id": "45ff32fc",
   "metadata": {},
   "outputs": [],
   "source": [
    "#2.1. Estrcuturas decisivas (if, elif, else)"
   ]
  },
  {
   "cell_type": "code",
   "execution_count": 2,
   "id": "f03be933",
   "metadata": {},
   "outputs": [],
   "source": [
    "# if\n",
    "#problema: dado el precio de 3 prodyctos ingresaos por teclado, aplicar descuento de 10% si la venta es mayor o igual A 1000\n"
   ]
  },
  {
   "cell_type": "code",
   "execution_count": 3,
   "id": "b5124149",
   "metadata": {},
   "outputs": [
    {
     "name": "stdout",
     "output_type": "stream",
     "text": [
      "Producto 1:250\n",
      "Producto 2:250\n",
      "Producto 3:600\n",
      "Total a pagar es: 990.0\n"
     ]
    }
   ],
   "source": [
    "#Solucion\n",
    "\n",
    "P1 = float(input(\"Producto 1:\"))\n",
    "P2 = float(input(\"Producto 2:\"))\n",
    "P3 = float(input(\"Producto 3:\"))\n",
    "\n",
    "total = P1 + P2 + P3\n",
    "if total>= 1000:\n",
    "    total *= 0.9\n",
    "    print(f\"Total a pagar es: {total}\")"
   ]
  },
  {
   "cell_type": "code",
   "execution_count": 4,
   "id": "fdc32c26",
   "metadata": {},
   "outputs": [],
   "source": [
    "#if else"
   ]
  },
  {
   "cell_type": "code",
   "execution_count": 5,
   "id": "e933c35b",
   "metadata": {},
   "outputs": [],
   "source": [
    "# Problema 01 (Recordando)\n",
    "# Dado una lista de [ALANYA, ALVA, AZAÑERO, CARRASCO, CCACCYA, COSME, CUSI, DIAZ, FLORES, GOMEZ, GOMEZ, GRANADOS, HUANCAS, JULCA, LAURA,MOTTA,PINEDO,PONCE,QUINTANA,RODRIGUEZ,SERNA,VILCA,YAURICASA]\n",
    "# Diseñar un código que muestre si el apellido de un estudiante (Ingresado por teclado) forma parte de la lista"
   ]
  },
  {
   "cell_type": "code",
   "execution_count": 6,
   "id": "29a5f122",
   "metadata": {},
   "outputs": [
    {
     "name": "stdout",
     "output_type": "stream",
     "text": [
      "Ingrese nombre a buscar:CERDAN\n",
      "No está en la lista de LP3\n"
     ]
    }
   ],
   "source": [
    "#Solucion\n",
    "\n",
    "LP3 =[\"ALANYA\",\" ALVA\", \"AZAÑERO\", \"CARRASCO\", \"CCACCYA\", \"COSME\", \"CUSI\", \"DIAZ\", \"FLORES\", \"GOMEZ\", \"GOMEZ\", \"GRANADOS\", \"HUANCAS\", \"JULCA\", \"LAURA\",\"MOTTA\",\"PINEDO\",\"PONCE\",\"QUINTANA\",\"RODRIGUEZ\",\"SERNA\",\"VILCA\",\"YAURICASA\"]\n",
    "apellido = input(\"Ingrese nombre a buscar:\")\n",
    "\n",
    "#Como los datos están en mayúsculas, se usa upper()\n",
    "\n",
    "if apellido.upper() in LP3:\n",
    "    print(\"Si está en la lista de LP3\")\n",
    "else:\n",
    "    print(\"No está en la lista de LP3\")"
   ]
  },
  {
   "cell_type": "code",
   "execution_count": 7,
   "id": "cc431ffd",
   "metadata": {},
   "outputs": [],
   "source": [
    "# Problema 02\n",
    "# Dado el importe total de ventas realizadas por un trabajador (ingresado por teclado, \n",
    "# categorizar que tipo de empleado es, considerando la siguiente tabla:\n",
    "\n",
    "# Categoria: A -> [0, 1000]\n",
    "# Categoria: B -> <1000, 2000]\n",
    "# Categoria: C -> <2000, 5000]\n",
    "# Categoría: D -> <5000, Mas]\n",
    "\n",
    "# Tiempo asignado: 12 minutos\n"
   ]
  },
  {
   "cell_type": "code",
   "execution_count": 23,
   "id": "5232482e",
   "metadata": {},
   "outputs": [
    {
     "name": "stdout",
     "output_type": "stream",
     "text": [
      "Ingrese total de ventas:65465262.2541515\n",
      " El empleado se encuentra en la categoría D\n"
     ]
    }
   ],
   "source": [
    "tventas = float(input(\"Ingrese total de ventas:\"))\n",
    "\n",
    "if ((tventas >= 0)and(tventas <=2000)):\n",
    "    print(f\" El empleado se encuentra en la categoría A\")\n",
    "elif ((tventas > 1000)and(tventas <=2000)) :\n",
    "    print(f\" El empleado se encuentra en la categoría B\")\n",
    "elif ((tventas > 2000)and(tventas<=5000)) :\n",
    "    print(f\" El empleado se encuentra en la categoría C\")\n",
    "elif (tventas > 5000):\n",
    "    print(f\" El empleado se encuentra en la categoría D\")"
   ]
  },
  {
   "cell_type": "code",
   "execution_count": 24,
   "id": "da65c690",
   "metadata": {},
   "outputs": [],
   "source": [
    "#ESTRUCTURAS REPETITIVAS"
   ]
  },
  {
   "cell_type": "code",
   "execution_count": 25,
   "id": "d9922309",
   "metadata": {},
   "outputs": [],
   "source": [
    "#for"
   ]
  },
  {
   "cell_type": "code",
   "execution_count": 26,
   "id": "d2deb4d7",
   "metadata": {},
   "outputs": [
    {
     "name": "stdout",
     "output_type": "stream",
     "text": [
      "Yauricasa\n",
      "Granados\n",
      "Alva\n",
      "Laura\n"
     ]
    }
   ],
   "source": [
    "#Problema 01: Mostar los elementos de una lista utilizando for:\n",
    "\n",
    "aula = ['Yauricasa', 'Granados', 'Alva', 'Laura']\n",
    "#Por cada alumno que está en la lista, imprimir alumno\n",
    "\n",
    "for alumno in aula:\n",
    "    print(alumno)"
   ]
  },
  {
   "cell_type": "code",
   "execution_count": 37,
   "id": "679a4bc0",
   "metadata": {},
   "outputs": [
    {
     "name": "stdout",
     "output_type": "stream",
     "text": [
      "Ingrese cadena: hola\n",
      "h\n",
      "o\n",
      "l\n",
      "a\n"
     ]
    }
   ],
   "source": [
    "# Problema 02\n",
    "#Dado una cadena ingresado por teclado, mostrar cada caractere de la lista usando for\n",
    "\n",
    "cadena = input(\"Ingrese cadena: \")\n",
    "for caracter in cadena:\n",
    "    print(caracter)"
   ]
  },
  {
   "cell_type": "code",
   "execution_count": 31,
   "id": "e1e02dc5",
   "metadata": {},
   "outputs": [
    {
     "data": {
      "text/plain": [
       "range(0, 5)"
      ]
     },
     "execution_count": 31,
     "metadata": {},
     "output_type": "execute_result"
    }
   ],
   "source": [
    "#Para generar los rangos de los numeros se usa range()\n",
    "range(5)"
   ]
  },
  {
   "cell_type": "code",
   "execution_count": 32,
   "id": "0aff68a2",
   "metadata": {},
   "outputs": [
    {
     "data": {
      "text/plain": [
       "range(0, 10)"
      ]
     },
     "execution_count": 32,
     "metadata": {},
     "output_type": "execute_result"
    }
   ],
   "source": [
    "#Imprimir los números de 0 a 10, utilizando for\n",
    "range(10)"
   ]
  },
  {
   "cell_type": "code",
   "execution_count": 36,
   "id": "106633fd",
   "metadata": {},
   "outputs": [
    {
     "name": "stdout",
     "output_type": "stream",
     "text": [
      "0\n",
      "1\n",
      "2\n",
      "3\n",
      "4\n",
      "5\n",
      "6\n",
      "7\n",
      "8\n",
      "9\n",
      "10\n"
     ]
    }
   ],
   "source": [
    "for numeros in range(11):\n",
    "     print(numeros)"
   ]
  },
  {
   "cell_type": "code",
   "execution_count": 39,
   "id": "e0d69a5f",
   "metadata": {},
   "outputs": [
    {
     "name": "stdout",
     "output_type": "stream",
     "text": [
      "10\n",
      "12\n",
      "14\n",
      "16\n",
      "18\n",
      "20\n"
     ]
    }
   ],
   "source": [
    "#Problema 02\n",
    "#Imprimir los números de 10 a 20\n",
    "for numeros in range(10, 22, 2):\n",
    "    print(numeros)"
   ]
  },
  {
   "cell_type": "code",
   "execution_count": 42,
   "id": "3f8851f9",
   "metadata": {},
   "outputs": [
    {
     "ename": "IndentationError",
     "evalue": "unexpected indent (Temp/ipykernel_10628/812477968.py, line 7)",
     "output_type": "error",
     "traceback": [
      "\u001b[1;36m  File \u001b[1;32m\"C:\\Users\\Emily\\AppData\\Local\\Temp/ipykernel_10628/812477968.py\"\u001b[1;36m, line \u001b[1;32m7\u001b[0m\n\u001b[1;33m    for i in range(1, len(lista)):\u001b[0m\n\u001b[1;37m    ^\u001b[0m\n\u001b[1;31mIndentationError\u001b[0m\u001b[1;31m:\u001b[0m unexpected indent\n"
     ]
    }
   ],
   "source": [
    "#Problema 03\n",
    "#Dado una lista de números, utilizando el algoritmo de burbuja, ordenarlos de menor a mayor\n",
    "\n",
    "lista =[10,20,5,-10,100, 0, 50, 17, 2000,-1000,0]\n",
    "print(lista)\n",
    "\n",
    "    for i in range(1, len(lista)):\n",
    "        for j in range(0, len(lista)-i):\n",
    "            if (lista[j+1] < lista[j]):\n",
    "                temp = lista[j]\n",
    "                lista[j]=lista[j+1]\n",
    "                lista[j+1]=temp\n",
    "                \n",
    "print(lista)                \n"
   ]
  },
  {
   "cell_type": "code",
   "execution_count": null,
   "id": "53968715",
   "metadata": {},
   "outputs": [],
   "source": []
  }
 ],
 "metadata": {
  "kernelspec": {
   "display_name": "Python 3 (ipykernel)",
   "language": "python",
   "name": "python3"
  },
  "language_info": {
   "codemirror_mode": {
    "name": "ipython",
    "version": 3
   },
   "file_extension": ".py",
   "mimetype": "text/x-python",
   "name": "python",
   "nbconvert_exporter": "python",
   "pygments_lexer": "ipython3",
   "version": "3.9.7"
  }
 },
 "nbformat": 4,
 "nbformat_minor": 5
}
