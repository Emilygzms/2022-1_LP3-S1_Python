{
 "cells": [
  {
   "cell_type": "markdown",
   "id": "85db5a4f",
   "metadata": {},
   "source": [
    "# Semana 06\n",
    "\n",
    "Emily Gomez Marcos"
   ]
  },
  {
   "cell_type": "markdown",
   "id": "02f62a23",
   "metadata": {},
   "source": [
    "1. Clases y objetos\n"
   ]
  },
  {
   "cell_type": "code",
   "execution_count": 1,
   "id": "fb009a8a",
   "metadata": {},
   "outputs": [],
   "source": [
    "#Problema \n",
    "#Crear la siguiente clase:\n",
    "#clase:persona\n",
    "#atributos:nombre, apellido, talla, dni\n"
   ]
  },
  {
   "cell_type": "code",
   "execution_count": 2,
   "id": "a17601ad",
   "metadata": {},
   "outputs": [],
   "source": [
    "class Persona:\n",
    "    nombre=\"\"\n",
    "    apellidos=\"\"\n",
    "    dni=\"\"\n",
    "    talla=0"
   ]
  },
  {
   "cell_type": "code",
   "execution_count": 8,
   "id": "9f986ca7",
   "metadata": {},
   "outputs": [
    {
     "name": "stdout",
     "output_type": "stream",
     "text": [
      "persona1\n",
      "Nombre: Pablo\n",
      "Apellido: Perez Gonzales\n",
      "Dni: 78906545\n",
      "Talla: 1.7\n"
     ]
    }
   ],
   "source": [
    "#Creación de objeto persona1\n",
    "\n",
    "persona1 = Persona()\n",
    "\n",
    "#Asignar valores al objeto\n",
    "persona1.nombre = \"Pablo\"\n",
    "persona1.apellido = \"Perez Gonzales\"\n",
    "persona1.dni = \"78906545\"\n",
    "persona1.talla =1.7\n",
    "\n",
    "#Mostrar valores\n",
    "\n",
    "print(\"persona1\")\n",
    "print(f\"Nombre: {persona1.nombre}\" )\n",
    "print(f\"Apellido: {persona1.apellido}\" )\n",
    "print(f\"Dni: {persona1.dni}\" )\n",
    "print(f\"Talla: {persona1.talla}\" )"
   ]
  },
  {
   "cell_type": "code",
   "execution_count": 9,
   "id": "a324d76a",
   "metadata": {},
   "outputs": [],
   "source": [
    "#Para utilizar constructor se usa __init__\n",
    "#¿Qué es?\n",
    "#eS un método\n",
    "#Sirve para inicializar valores a una clase\n"
   ]
  },
  {
   "cell_type": "code",
   "execution_count": 10,
   "id": "c51217bc",
   "metadata": {},
   "outputs": [],
   "source": [
    "#Problema 02:\n",
    "#Crear la siguiente clase usando constructores:\n",
    "#clase: Curso\n",
    "#atributos: codigo,nombre,horas, creditos"
   ]
  },
  {
   "cell_type": "code",
   "execution_count": 12,
   "id": "c15e02b5",
   "metadata": {},
   "outputs": [],
   "source": [
    "class Curso:\n",
    "    def __init__(self, codigo, nombre, horas, creditos):\n",
    "        self.codigo = codigo\n",
    "        self.nombre = nombre\n",
    "        self.horas = horas\n",
    "        self.creditos =creditos\n",
    "        \n",
    "    def mostrar_datos_curso(self):\n",
    "        print(f\"Curso:{self.nombre}\")\n",
    "        print(f\"Codigo:{self.codigo}\")\n",
    "        print(f\"Horas:{self.horas}\")\n",
    "        print(f\"Creditos:{self.creditos}\")"
   ]
  },
  {
   "cell_type": "code",
   "execution_count": 15,
   "id": "b0172a6b",
   "metadata": {},
   "outputs": [],
   "source": [
    "#creamos el objeto curso1 y mandamos parámetros\n",
    "\n",
    "curso1 = Curso(\"C0501\",\"LP3\",6, 3)"
   ]
  },
  {
   "cell_type": "code",
   "execution_count": null,
   "id": "3262e2e8",
   "metadata": {},
   "outputs": [],
   "source": []
  }
 ],
 "metadata": {
  "kernelspec": {
   "display_name": "Python 3 (ipykernel)",
   "language": "python",
   "name": "python3"
  },
  "language_info": {
   "codemirror_mode": {
    "name": "ipython",
    "version": 3
   },
   "file_extension": ".py",
   "mimetype": "text/x-python",
   "name": "python",
   "nbconvert_exporter": "python",
   "pygments_lexer": "ipython3",
   "version": "3.9.7"
  }
 },
 "nbformat": 4,
 "nbformat_minor": 5
}
