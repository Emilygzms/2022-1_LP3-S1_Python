{
 "cells": [
  {
   "cell_type": "markdown",
   "id": "ca111dfe",
   "metadata": {},
   "source": [
    "# SEMANA 05\n",
    "Emily Gomez Marcos :D"
   ]
  },
  {
   "cell_type": "markdown",
   "id": "48e177ae",
   "metadata": {},
   "source": [
    "Temas:"
   ]
  },
  {
   "cell_type": "markdown",
   "id": "dcbaa829",
   "metadata": {},
   "source": [
    "1. Números\n",
    "2. Variables\n",
    "3. Manejo de Cadenas\n",
    "4. Ingreso de datos por teclado\n",
    "5. Operadores"
   ]
  },
  {
   "cell_type": "markdown",
   "id": "13f973a9",
   "metadata": {},
   "source": [
    "5. Operadores"
   ]
  },
  {
   "cell_type": "code",
   "execution_count": null,
   "id": "dd874393",
   "metadata": {},
   "outputs": [],
   "source": [
    "#5.1. Operadores Aritméticos\n",
    "#Se tiene: +, -, *, /, //, **"
   ]
  },
  {
   "cell_type": "code",
   "execution_count": 8,
   "id": "0cb9b8fb",
   "metadata": {},
   "outputs": [
    {
     "name": "stdout",
     "output_type": "stream",
     "text": [
      "13\n",
      "7\n",
      "30\n",
      "3.3333333333333335\n",
      "1\n",
      "1000\n",
      "3\n"
     ]
    }
   ],
   "source": [
    "numero1 =10\n",
    "numero2 =3\n",
    "suma = numero1 + numero2\n",
    "resta = numero1 - numero2\n",
    "producto = numero1 * numero2\n",
    "division = numero1 / numero2\n",
    "residuo = numero1 % numero2\n",
    "potencia = numero1 ** numero2\n",
    "cociente = numero1 // numero2\n",
    "print(suma)\n",
    "print(resta)\n",
    "print(producto)\n",
    "print(division)\n",
    "print(residuo)\n",
    "print(potencia)\n",
    "print(cociente)"
   ]
  },
  {
   "cell_type": "code",
   "execution_count": 9,
   "id": "24465175",
   "metadata": {},
   "outputs": [],
   "source": [
    "#5.2. Operadores Asignación\n",
    "#Se tiene: =, +=, -=, *=, /=, **="
   ]
  },
  {
   "cell_type": "code",
   "execution_count": 15,
   "id": "f77127cd",
   "metadata": {},
   "outputs": [
    {
     "name": "stdout",
     "output_type": "stream",
     "text": [
      "8\n"
     ]
    }
   ],
   "source": [
    "numero = 5\n",
    "numero = numero + 3\n",
    "print(numero)"
   ]
  },
  {
   "cell_type": "code",
   "execution_count": 17,
   "id": "ae23b8a4",
   "metadata": {},
   "outputs": [
    {
     "name": "stdout",
     "output_type": "stream",
     "text": [
      "8\n"
     ]
    }
   ],
   "source": [
    "#La operación anterior, se puede realizar del siguiente modo:\n",
    "numero = 5\n",
    "numero += 3\n",
    "print(numero)"
   ]
  },
  {
   "cell_type": "code",
   "execution_count": 22,
   "id": "0f204234",
   "metadata": {},
   "outputs": [
    {
     "name": "stdout",
     "output_type": "stream",
     "text": [
      "3\n"
     ]
    }
   ],
   "source": [
    "numero = 5\n",
    "numero -= 2\n",
    "print(numero)"
   ]
  },
  {
   "cell_type": "code",
   "execution_count": 24,
   "id": "98943b31",
   "metadata": {},
   "outputs": [
    {
     "name": "stdout",
     "output_type": "stream",
     "text": [
      "125\n"
     ]
    }
   ],
   "source": [
    "#Ejemplo:\n",
    "numero = 5\n",
    "numero **= 3\n",
    "print(numero)"
   ]
  },
  {
   "cell_type": "code",
   "execution_count": 25,
   "id": "857cfa48",
   "metadata": {},
   "outputs": [],
   "source": [
    "#5.3. Operadores de Comparación\n",
    "#Se tiene: ==, <,>,<=,>="
   ]
  },
  {
   "cell_type": "code",
   "execution_count": 26,
   "id": "761f610f",
   "metadata": {},
   "outputs": [
    {
     "data": {
      "text/plain": [
       "False"
      ]
     },
     "execution_count": 26,
     "metadata": {},
     "output_type": "execute_result"
    }
   ],
   "source": [
    "#Ejemplo de igualdad ==\n",
    "numero1 = 5\n",
    "numero2 = 2\n",
    "numero1 == numero2"
   ]
  },
  {
   "cell_type": "code",
   "execution_count": 27,
   "id": "7bc3765d",
   "metadata": {},
   "outputs": [
    {
     "data": {
      "text/plain": [
       "True"
      ]
     },
     "execution_count": 27,
     "metadata": {},
     "output_type": "execute_result"
    }
   ],
   "source": [
    "#Con las cadenas funciona igual\n",
    "nombre1 = \"Emily\"\n",
    "nombre2 = \"Emily\"\n",
    "nombre1 == nombre2"
   ]
  },
  {
   "cell_type": "code",
   "execution_count": 29,
   "id": "551b23d9",
   "metadata": {},
   "outputs": [],
   "source": [
    "#5.3. Operadores Lógicos\n",
    "#Se tiene: and, or, not\n",
    "\n",
    "numero1 = 5\n",
    "numero2 = 6\n",
    "numero3 = 7\n",
    "numero4 = 8"
   ]
  },
  {
   "cell_type": "code",
   "execution_count": 30,
   "id": "eb2e45ab",
   "metadata": {},
   "outputs": [
    {
     "data": {
      "text/plain": [
       "True"
      ]
     },
     "execution_count": 30,
     "metadata": {},
     "output_type": "execute_result"
    }
   ],
   "source": [
    "numero1 < numero2"
   ]
  },
  {
   "cell_type": "code",
   "execution_count": 31,
   "id": "a08874f9",
   "metadata": {},
   "outputs": [
    {
     "data": {
      "text/plain": [
       "False"
      ]
     },
     "execution_count": 31,
     "metadata": {},
     "output_type": "execute_result"
    }
   ],
   "source": [
    "# el not invierte el resultado\n",
    "not(numero1<numero2)"
   ]
  },
  {
   "cell_type": "code",
   "execution_count": 33,
   "id": "dfd536a7",
   "metadata": {},
   "outputs": [
    {
     "data": {
      "text/plain": [
       "True"
      ]
     },
     "execution_count": 33,
     "metadata": {},
     "output_type": "execute_result"
    }
   ],
   "source": [
    "(numero1<numero2) and (numero3 <numero4)"
   ]
  },
  {
   "cell_type": "code",
   "execution_count": 34,
   "id": "4a24ea00",
   "metadata": {},
   "outputs": [
    {
     "data": {
      "text/plain": [
       "True"
      ]
     },
     "execution_count": 34,
     "metadata": {},
     "output_type": "execute_result"
    }
   ],
   "source": [
    "#También puedes utilzar parentesis para ordenar tu operacion\n",
    "(numero1<numero2 and numero3<numero4) or (numero3>numero4)"
   ]
  },
  {
   "cell_type": "code",
   "execution_count": 35,
   "id": "797ed879",
   "metadata": {},
   "outputs": [],
   "source": [
    "#5.4. Operadores de pertenencia\n",
    "#Se tiene: in, not in, "
   ]
  },
  {
   "cell_type": "code",
   "execution_count": 38,
   "id": "d9caf3a4",
   "metadata": {},
   "outputs": [],
   "source": [
    "#Ejemplo:\n",
    "aula= [\"Juan\", \"Daniel\", \"Rubén\"]\n",
    "alumno1 = \"Diego\"\n",
    "alumno2 = \"Juan\""
   ]
  },
  {
   "cell_type": "code",
   "execution_count": 39,
   "id": "1ebc5e77",
   "metadata": {},
   "outputs": [
    {
     "data": {
      "text/plain": [
       "False"
      ]
     },
     "execution_count": 39,
     "metadata": {},
     "output_type": "execute_result"
    }
   ],
   "source": [
    "#¿Diego está en aula?\n",
    "alumno1 in aula"
   ]
  },
  {
   "cell_type": "code",
   "execution_count": 40,
   "id": "9e3ca2f3",
   "metadata": {},
   "outputs": [
    {
     "data": {
      "text/plain": [
       "True"
      ]
     },
     "execution_count": 40,
     "metadata": {},
     "output_type": "execute_result"
    }
   ],
   "source": [
    "#¿Juan está en aula?\n",
    "alumno2 in aula"
   ]
  },
  {
   "cell_type": "code",
   "execution_count": 41,
   "id": "26ac85cc",
   "metadata": {},
   "outputs": [
    {
     "data": {
      "text/plain": [
       "True"
      ]
     },
     "execution_count": 41,
     "metadata": {},
     "output_type": "execute_result"
    }
   ],
   "source": [
    "#¿Diego no está en aula?\n",
    "alumno1 not in aula"
   ]
  },
  {
   "cell_type": "code",
   "execution_count": 42,
   "id": "70f2e9c3",
   "metadata": {},
   "outputs": [
    {
     "data": {
      "text/plain": [
       "False"
      ]
     },
     "execution_count": 42,
     "metadata": {},
     "output_type": "execute_result"
    }
   ],
   "source": [
    "#Juan no está en aula?\n",
    "alumno2 not in aula"
   ]
  },
  {
   "cell_type": "code",
   "execution_count": 43,
   "id": "965dcd95",
   "metadata": {},
   "outputs": [],
   "source": [
    "#5.4. Operadores de pertenencia\n",
    "#Se tiene: is, is not"
   ]
  },
  {
   "cell_type": "code",
   "execution_count": 66,
   "id": "f267d2b9",
   "metadata": {},
   "outputs": [],
   "source": [
    "aula1 =[\"Juan\", \"Daniel\", \"Ruben\"]\n",
    "aula2 =[\"Juan\", \"Daniel\", \"Ruben\"]\n",
    "\n",
    "#Aula 3 va a compartir el mismo objeto que el aula 1\n",
    "\n",
    "aula3 = aula1"
   ]
  },
  {
   "cell_type": "code",
   "execution_count": 67,
   "id": "9fdbb4f1",
   "metadata": {},
   "outputs": [
    {
     "data": {
      "text/plain": [
       "True"
      ]
     },
     "execution_count": 67,
     "metadata": {},
     "output_type": "execute_result"
    }
   ],
   "source": [
    "#¿Aula3 comparte el mismo objeto que aula1?\n",
    "aula3 is aula1"
   ]
  },
  {
   "cell_type": "code",
   "execution_count": 68,
   "id": "4f53958b",
   "metadata": {},
   "outputs": [
    {
     "data": {
      "text/plain": [
       "False"
      ]
     },
     "execution_count": 68,
     "metadata": {},
     "output_type": "execute_result"
    }
   ],
   "source": [
    "#¿Aula3 comparte el mismo objeto que aula2?\n",
    "aula3 is aula2"
   ]
  },
  {
   "cell_type": "code",
   "execution_count": 69,
   "id": "18d9a4e3",
   "metadata": {},
   "outputs": [
    {
     "data": {
      "text/plain": [
       "True"
      ]
     },
     "execution_count": 69,
     "metadata": {},
     "output_type": "execute_result"
    }
   ],
   "source": [
    "aula3 == aula1"
   ]
  },
  {
   "cell_type": "code",
   "execution_count": 70,
   "id": "05f940e2",
   "metadata": {},
   "outputs": [
    {
     "data": {
      "text/plain": [
       "True"
      ]
     },
     "execution_count": 70,
     "metadata": {},
     "output_type": "execute_result"
    }
   ],
   "source": [
    "aula3 == aula2"
   ]
  },
  {
   "cell_type": "code",
   "execution_count": 59,
   "id": "f53020f2",
   "metadata": {},
   "outputs": [],
   "source": [
    "aula1.append(\"Diego\")"
   ]
  },
  {
   "cell_type": "code",
   "execution_count": 60,
   "id": "cbfab9d3",
   "metadata": {},
   "outputs": [
    {
     "name": "stdout",
     "output_type": "stream",
     "text": [
      "['Juan', 'Daniel', 'Ruben', 'Diego']\n"
     ]
    }
   ],
   "source": [
    "#Al imprimir los elementos de la lista aula1 se observa\n",
    "print(aula1)"
   ]
  },
  {
   "cell_type": "code",
   "execution_count": 61,
   "id": "4756e67d",
   "metadata": {},
   "outputs": [
    {
     "name": "stdout",
     "output_type": "stream",
     "text": [
      "['Juan', 'Daniel', 'Ruben', 'Diego']\n"
     ]
    }
   ],
   "source": [
    "print(aula3)"
   ]
  },
  {
   "cell_type": "code",
   "execution_count": 62,
   "id": "153550c6",
   "metadata": {},
   "outputs": [
    {
     "name": "stdout",
     "output_type": "stream",
     "text": [
      "['Juan', 'Daniel', 'Ruben']\n"
     ]
    }
   ],
   "source": [
    "print(aula2)"
   ]
  },
  {
   "cell_type": "code",
   "execution_count": 63,
   "id": "f370a53c",
   "metadata": {},
   "outputs": [
    {
     "data": {
      "text/plain": [
       "True"
      ]
     },
     "execution_count": 63,
     "metadata": {},
     "output_type": "execute_result"
    }
   ],
   "source": [
    "aula3 == aula1"
   ]
  },
  {
   "cell_type": "code",
   "execution_count": 64,
   "id": "5cdfe5a2",
   "metadata": {},
   "outputs": [
    {
     "data": {
      "text/plain": [
       "False"
      ]
     },
     "execution_count": 64,
     "metadata": {},
     "output_type": "execute_result"
    }
   ],
   "source": [
    "aula3 == aula2"
   ]
  },
  {
   "cell_type": "code",
   "execution_count": 72,
   "id": "79cb4b69",
   "metadata": {},
   "outputs": [
    {
     "name": "stdout",
     "output_type": "stream",
     "text": [
      "['Juan', 'Daniel', 'Ruben', 'Diego en 3', 'Diego en 3']\n"
     ]
    }
   ],
   "source": [
    "aula3.append(\"Diego en 3\")\n",
    "print(aula3)"
   ]
  },
  {
   "cell_type": "code",
   "execution_count": null,
   "id": "e6987172",
   "metadata": {},
   "outputs": [],
   "source": []
  }
 ],
 "metadata": {
  "kernelspec": {
   "display_name": "Python 3 (ipykernel)",
   "language": "python",
   "name": "python3"
  },
  "language_info": {
   "codemirror_mode": {
    "name": "ipython",
    "version": 3
   },
   "file_extension": ".py",
   "mimetype": "text/x-python",
   "name": "python",
   "nbconvert_exporter": "python",
   "pygments_lexer": "ipython3",
   "version": "3.9.7"
  }
 },
 "nbformat": 4,
 "nbformat_minor": 5
}
